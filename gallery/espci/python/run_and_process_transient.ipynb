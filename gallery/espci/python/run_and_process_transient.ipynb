{
 "cells": [
  {
   "attachments": {},
   "cell_type": "markdown",
   "metadata": {},
   "source": [
    "This notebook illustrates the way to run the simulations and perform some basic analyses with the output H5 files. The parameters used for these simulations are those reported in the paper `History dependent plasticity of glass: A mapping between atomistic and elasto-plastic models. Castellanos et al. Acta Materialia, Volume 241, December 2022, 118405`. See [here](https://www.sciencedirect.com/science/article/abs/pii/S1359645422007832?via%3Dihub). As detailed in the publication, the parameter values associated to transient state properties were obtained by optimizing these mesoscale simulation results against a set of reference molecular dynamics simulations in the transient regime, for different parent temperatures. The reader is referred to the publication for details. \n",
    "\n",
    "The stationary state parameters have the values optimized as described in `Insights from the quantitative calibration of an elasto-plastic model\n",
    "from a Lennard-Jones atomic glass. Castellanos et al. Comptes Rendus. Physique, Volume 22 (2021) no. S3, pp. 135-162`. See [here](https://comptes-rendus.academie-sciences.fr/physique/item/10.5802/crphys.48.pdf)."
   ]
  },
  {
   "cell_type": "code",
   "execution_count": 1,
   "metadata": {},
   "outputs": [],
   "source": [
    "import os\n",
    "import subprocess\n",
    "import time\n",
    "import numpy as np\n",
    "import pandas as pd\n",
    "import time\n",
    "import multiprocessing\n",
    "import socket\n",
    "import copy\n",
    "from joblib import Parallel, delayed\n",
    "from tqdm import tqdm\n",
    "import matplotlib.pyplot as plt\n",
    "import glob\n",
    "import h5py"
   ]
  },
  {
   "attachments": {},
   "cell_type": "markdown",
   "metadata": {},
   "source": [
    "# Helpers"
   ]
  },
  {
   "cell_type": "code",
   "execution_count": 2,
   "metadata": {},
   "outputs": [],
   "source": [
    "def write_cf_file(params,filename):\n",
    "    \"\"\"\n",
    "    Write the input parameters as a text file.\n",
    "    - params: dictionary with the parameters\n",
    "    - filename: string with the output config file\n",
    "    \"\"\"\n",
    "\n",
    "    with open(filename, 'w') as outfile:  \n",
    "        outfile.write('# Listing of Parameters\\n')\n",
    "        outfile.write('# ---------------------\\n')\n",
    "        for section_name, section_params in params.items():\n",
    "            outfile.write('subsection {}\\n'.format(section_name))\n",
    "            for param_name, param_value in section_params.items():\n",
    "                if type(param_value)==bool: param_value = 'true' if param_value else 'false'\n",
    "                outfile.write('  set {}'.format(param_name)+' '*(20-len(param_name))+' = {}\\n'.format(param_value))    \n",
    "            outfile.write('end\\n\\n\\n')\n",
    "    time.sleep(0.1)\n",
    "\n",
    "    return\n",
    "\n",
    "\n",
    "def replace_params(params, input_params):\n",
    "    \"\"\"\n",
    "    Replace the default parameters with the desired ones.\n",
    "    - params: dictionary with the default parameters\n",
    "    - input_params: dictionary with the parameters to be replaced in the default ones\n",
    "    \"\"\"\n",
    "\n",
    "    params = copy.deepcopy(params)\n",
    "    \n",
    "    for name, value in input_params.items():\n",
    "        for section_name, section in params.items():\n",
    "            if name in section.keys():\n",
    "                section[name] = value\n",
    "\n",
    "    return params\n",
    "\n",
    "\n",
    "def run_job(job):\n",
    "    \"\"\"\n",
    "    Run a job.\n",
    "    - job: dictionary with the job definition, which includes simulation parameters, executable file and paths.\n",
    "    \"\"\"\n",
    "\n",
    "    os.chdir(job['working_dir'])\n",
    "    write_cf_file(job['params'], job['cfg_filename'])   \n",
    "\n",
    "    # joblib uses loky backend, and the processes have names LokyProcess-2, LokyProcess-3 etc.\n",
    "    # where the names corresponds to the number of parallel workers, so we can extract that number\n",
    "    # to pin the simulations launched by a process to a specific CPU\n",
    "    core_id = int(multiprocessing.current_process().name.split('-')[-1])-1\n",
    "\n",
    "    proc = subprocess.Popen('taskset -c {} ./run_sim -f {}'.format(core_id, job['cfg_filename']), shell=True)\n",
    "    proc.wait()    \n",
    "                \n",
    "    return job\n",
    "      \n",
    "\n",
    "def make_jobs(param_list, working_dir):\n",
    "    \"\"\"\n",
    "    Create a list of jobs. Each job is created with an entry from the input\n",
    "    list of simulation parameters.\n",
    "    \"\"\"\n",
    "    \n",
    "    output_dir_id = time.strftime('%Y_%m_%d_%H@')\n",
    "    os.system('mkdir {} > /dev/null 2>&1'.format(working_dir+'/raw_data/'+output_dir_id))\n",
    "\n",
    "    job_list = list()\n",
    "    \n",
    "    for n, params in enumerate(np.atleast_1d(param_list)):            \n",
    "        \n",
    "        cfg_filename = n\n",
    "\n",
    "        params['Output']['output_path'] = './raw_data/{}'.format(output_dir_id)\n",
    "            \n",
    "        job = {'working_dir': working_dir,\n",
    "               'cfg_filename': './raw_data/{}/{}.cfg'.format(output_dir_id,cfg_filename),\n",
    "               'params': params,\n",
    "               'target_func': run_job}\n",
    "        \n",
    "        job_list.append(job)\n",
    "    \n",
    "    return job_list\n",
    "\n",
    "\n",
    "def create_output_structure(working_dir, exec_file):\n",
    "    \"\"\"\n",
    "    Create a suitable directory structure for storing the simulation results. \n",
    "    \"\"\"\n",
    "    os.system('mkdir {} > /dev/null 2>&1'.format(working_dir))\n",
    "    os.system('cp {} {} > /dev/null 2>&1'.format(exec_file, working_dir))\n",
    "    os.system('mkdir {}/raw_data > /dev/null 2>&1'.format(working_dir))\n",
    "    os.system('mkdir {}/pictures > /dev/null 2>&1'.format(working_dir))"
   ]
  },
  {
   "attachments": {},
   "cell_type": "markdown",
   "metadata": {},
   "source": [
    "# Run the simulations"
   ]
  },
  {
   "attachments": {},
   "cell_type": "markdown",
   "metadata": {},
   "source": [
    "Here we use the stationary state parameter values reported [here](https://comptes-rendus.academie-sciences.fr/physique/item/10.5802/crphys.48.pdf) for the length scale of `l=6.6` (however, as reported in [here](https://www.sciencedirect.com/science/article/abs/pii/S1359645422007832?via%3Dihub), in this case, the coupling constant is changed from `2.2` to `1.8` since the law relating the local plastic increments to the local shear stress was modified in the latter publication). For mesoscale elements with a length of `l=6.6`, the system is formed by `15x15` elements, and we measure local properties on patches with sides of `N_patch_list=1,2,4,8` elements. \n",
    "\n",
    "To run the simulations, we could do it in a simpler manner as described in the other notebook (`gallery/espci/python/run_and_process_stationary.ipynb`), in which case we must manually update the configuration file for the simulation corresponding to each parent temperature. Here we automatize the process. For that, we define the parameter values for each temperature and create jobs based on them. Once defined, the jobs are run in parallel using the joblib module."
   ]
  },
  {
   "cell_type": "code",
   "execution_count": 3,
   "metadata": {},
   "outputs": [],
   "source": [
    "# the optimal parameters for the transient regimes for each parent temperature\n",
    "temperature_list = [0.32,0.34,0.37,0.4,0.5,0.7]\n",
    "\n",
    "G_quench_dict = {\n",
    "                0.32: 17.6,\n",
    "                0.34: 15.6,\n",
    "                0.37: 14.45,\n",
    "                0.4: 13.0,\n",
    "                0.5: 11.74,\n",
    "                0.7: 10.86\n",
    "                }\n",
    "\n",
    "init_eigenstrain_std_dev_dict = {\n",
    "                                0.32: 0.01155,\n",
    "                                0.34: 0.012444,\n",
    "                                0.37: 0.0126,\n",
    "                                0.4: 0.0135,\n",
    "                                0.5: 0.015795,\n",
    "                                0.7: 0.014960\n",
    "                                }\n",
    "\n",
    "lambda_quench_dict = {\n",
    "                    0.32: 2.469,\n",
    "                    0.34: 1.97,\n",
    "                    0.37: 1.53,\n",
    "                    0.4: 1.3,\n",
    "                    0.5: 1.14,\n",
    "                    0.7: 0.94,\n",
    "                    }\n",
    "\n",
    "k_quench_dict = {\n",
    "                 0.32: 3.415,\n",
    "                0.34: 3.488,\n",
    "                0.37: 4.09,\n",
    "                0.4: 4.199,\n",
    "                0.5: 4.39,\n",
    "                0.7: 5.4\n",
    "                }\n",
    "\n",
    "gamma_pl_trans = 0.2\n",
    "beta = -3.3"
   ]
  },
  {
   "cell_type": "code",
   "execution_count": 4,
   "metadata": {},
   "outputs": [],
   "source": [
    "def submission_parent_T_static_quench(working_dir):\n",
    "\n",
    "    # define some default parameters, that will be later replaced by other\n",
    "    # values on a loop for each parent temperature. The default values of the\n",
    "    # stationary state parameters are already set to the optimial ones  \n",
    "    default_espci_params = {\n",
    "                    'Material':{\n",
    "                        'G': 13.2,\n",
    "                        'G_quench': 13.2,\n",
    "                        'alpha_tau': 0,\n",
    "                        'K': 59,\n",
    "                        'K_quench': 59,\n",
    "                        'gamma_pl_trans': 0.5,\n",
    "                        'beta': 0.,\n",
    "                        'coupling_constant': 1.812,\n",
    "                        'lambda': 2.0517,\n",
    "                        'lambda_quench': 2.0517,\n",
    "                        'k': 2.1818,\n",
    "                        'k_quench': 2.1818,\n",
    "                        'n_slip_systems': 9,\n",
    "                        'init_eigenstrain': 'true',\n",
    "                        'init_eigenstrain_std_dev': 0.0,\n",
    "                        'init_eigenstrain_std_vol': 0.0,\n",
    "                        'init_eigenstrain_av_vol': 0.0,\n",
    "                        'init_eigenstrain_std_av_vol': 0.0,\n",
    "                        'temperature_liquid': 0.25,\n",
    "                        },\n",
    "\n",
    "                    'Output':{\n",
    "                        'filename': 'auto',\n",
    "                        'output_path': './',\n",
    "                        'snapshots_interval': 0.025,\n",
    "                        'snapshots': 'patches,def_grad,stress',\n",
    "                        'snapshots_max': 3.00,\n",
    "                        'snapshots_min': 0.00,\n",
    "                        'snapshots_sensitivity': 0.001,\n",
    "                        'verbosity': False},\n",
    "\n",
    "                    'Simulation Setup':{\n",
    "                        'Nx': 15,\n",
    "                        'Ny': 15,\n",
    "                        'N_patch_list': '1,2,4,8',\n",
    "                        'n_theta': 4,\n",
    "                        'seed': 1234567,\n",
    "                        'n_rep': 1,\n",
    "                        'monitor_name': 'total_strain',\n",
    "                        'monitor_limit': 0.25,\n",
    "                        'parent_liquid': 'false',\n",
    "                        'thermal_relaxation': 'false',\n",
    "                        'reload': 'false',\n",
    "                        'het_elasticity': 'false',\n",
    "                        'do_ee': 'true'}\n",
    "                    }\n",
    "\n",
    "\n",
    "    param_combinations = list()\n",
    "\n",
    "    for T in temperature_list:\n",
    "        # define here the parameter values that will be replaced in the dictionary\n",
    "        # of default parameter values above\n",
    "        param_combinations += [ {'temperature_liquid': T,\n",
    "                                'k_quench': k_quench_dict[T],\n",
    "                                'lambda_quench': lambda_quench_dict[T],\n",
    "                                'gamma_pl_trans': gamma_pl_trans,\n",
    "                                'G_quench': G_quench_dict[T],\n",
    "                                'beta': beta,\n",
    "                                'init_eigenstrain_std_dev': init_eigenstrain_std_dev_dict[T],\n",
    "                                } ]\n",
    "\n",
    "    n_realizations = 32\n",
    "\n",
    "    param_combinations_repeated = list()\n",
    "    for p in param_combinations:\n",
    "        for n in range(n_realizations): # repeat each param combination this number of times, each wich a different seed\n",
    "            cfg_dict = replace_params(default_espci_params,p)\n",
    "            cfg_dict['Simulation Setup']['seed'] = np.random.randint(0,1e7)\n",
    "            param_combinations_repeated.append( cfg_dict )\n",
    "\n",
    "    # parameters that will be used to create cofig filenames. We use see and temperature because are\n",
    "    # the most meaninful ones in this specific case\n",
    "    keys = ['seed','temperature_liquid']\n",
    "    job_list = make_jobs(param_combinations_repeated, working_dir)\n",
    "\n",
    "    return job_list"
   ]
  },
  {
   "cell_type": "code",
   "execution_count": 5,
   "metadata": {},
   "outputs": [],
   "source": [
    "path = '<you-output-path>'\n",
    "exec_file = '<path-to-MEPLS-exec-file>'"
   ]
  },
  {
   "cell_type": "code",
   "execution_count": null,
   "metadata": {},
   "outputs": [],
   "source": [
    "output_dir = 'sim_liquid_parent_T'\n",
    "working_dir = f'{path}/{output_dir}'\n",
    "\n",
    "create_output_structure(working_dir, exec_file)\n",
    "job_list = submission_parent_T_static_quench(working_dir)\n",
    "\n",
    "n_jobs = multiprocessing.cpu_count()\n",
    "Parallel(n_jobs=n_jobs)(delayed(run_job)(job) for job in tqdm(job_list))"
   ]
  },
  {
   "cell_type": "markdown",
   "metadata": {},
   "source": [
    "# Plot the mascroscale response vs temperature"
   ]
  },
  {
   "attachments": {},
   "cell_type": "markdown",
   "metadata": {},
   "source": [
    "Here we create the plot of the macroscale response for different parent temperatures. For that, we use the dataset that contains a summary of the macroscale response, located at `/AQS/macro_evolution` within the output H5 files hierarchy. This dataset has less granularity than those based on discrete events (see`/AQS/driving_events`) but is more straightforward to deal with."
   ]
  },
  {
   "cell_type": "code",
   "execution_count": 7,
   "metadata": {},
   "outputs": [
    {
     "name": "stderr",
     "output_type": "stream",
     "text": [
      "100%|██████████| 192/192 [00:01<00:00, 176.14it/s]\n"
     ]
    }
   ],
   "source": [
    "meso_filenames = glob.glob(f'{working_dir}/raw_data/*/*h5')\n",
    "\n",
    "df_list = list()\n",
    "\n",
    "for filename in tqdm(meso_filenames):  \n",
    "    file = h5py.File(filename,'r') \n",
    "    df_ = np.array(file['AQS/macro_evolution'])\n",
    "    df = pd.DataFrame(df_, columns=df_.dtype.names).loc[:,['total_strain','ext_stress']]\n",
    "    df['T'] = file.attrs['temperature_liquid']\n",
    "    df_list.append(df)\n",
    "    file.close()\n",
    "\n",
    "df = pd.concat(df_list)"
   ]
  },
  {
   "cell_type": "code",
   "execution_count": 8,
   "metadata": {},
   "outputs": [],
   "source": [
    "df['strain_bin'] = pd.cut(df['total_strain'], np.arange(0,1,0.01))\n",
    "\n",
    "agg = df.groupby(['strain_bin','T'], as_index=False).mean().dropna().sort_values(['total_strain'])"
   ]
  },
  {
   "cell_type": "code",
   "execution_count": 9,
   "metadata": {},
   "outputs": [
    {
     "data": {
      "text/plain": [
       "<matplotlib.legend.Legend at 0x7f6421ac79d0>"
      ]
     },
     "execution_count": 9,
     "metadata": {},
     "output_type": "execute_result"
    },
    {
     "data": {
      "image/png": "[encoded data removed]",
      "text/plain": [
       "<Figure size 324x216 with 1 Axes>"
      ]
     },
     "metadata": {
      "needs_background": "light"
     },
     "output_type": "display_data"
    }
   ],
   "source": [
    "fig, ax = plt.subplots(1,1, sharex=True, figsize=(4.5,3))    \n",
    "\n",
    "for T, g in agg.groupby('T'):\n",
    "    ax.plot(g['total_strain'], g['ext_stress'], label=T)\n",
    "\n",
    "plt.xlabel('gamma')\n",
    "plt.ylabel('stress_xy')\n",
    "plt.legend()    "
   ]
  }
 ],
 "metadata": {
  "kernelspec": {
   "display_name": "base",
   "language": "python",
   "name": "python3"
  },
  "language_info": {
   "codemirror_mode": {
    "name": "ipython",
    "version": 3
   },
   "file_extension": ".py",
   "mimetype": "text/x-python",
   "name": "python",
   "nbconvert_exporter": "python",
   "pygments_lexer": "ipython3",
   "version": "3.9.13"
  },
  "orig_nbformat": 4
 },
 "nbformat": 4,
 "nbformat_minor": 2
}
